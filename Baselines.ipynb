{
 "cells": [
  {
   "cell_type": "markdown",
   "metadata": {},
   "source": [
    "# Baselines\n",
    "\n",
    "We are predicting a continuous value so we are doing **regression**: regressing accuracy onto our features. Our evaluation criteria will be **root mean squared error**. Given our estimator $\\hat{f}$, datapoints $x_i$ and true accuracies $y_i$, we calculate\n",
    "\n",
    "$$\n",
    "\\sqrt{\\sum_i \\left( y_i - \\hat{f}(x_i) \\right)^2}\n",
    "$$\n",
    "\n",
    "**NOTE**: we are most concerned with **interpretability** of these results - i.e. we want to know what influences a student's performance. Prediction accuracy, whilst it should indirectly help, should not be all that you focus on.\n",
    "\n",
    "Our baselines will include the following:\n",
    "- Mean value (empirical mean from the data)\n",
    "- Linear Regression model with fairly basic features (not considering time or play history)\n",
    "- Support Vector Regressor with the same features\n",
    "- Feedforward Neural Network with the same features\n",
    "\n",
    "More will be added in the coming days."
   ]
  },
  {
   "cell_type": "code",
   "execution_count": 1,
   "metadata": {},
   "outputs": [],
   "source": [
    "from sml import exp_data as ex, util, baselines as bl"
   ]
  },
  {
   "cell_type": "code",
   "execution_count": 2,
   "metadata": {},
   "outputs": [],
   "source": [
    "data = ex.load(just_accs=True)"
   ]
  },
  {
   "cell_type": "code",
   "execution_count": 3,
   "metadata": {
    "scrolled": true
   },
   "outputs": [
    {
     "name": "stdout",
     "output_type": "stream",
     "text": [
      "Generating one-hot vectors\n",
      "Determining splits...\n",
      "Ready to go.\n"
     ]
    }
   ],
   "source": [
    "X_train, y_train, X_val, y_val, X_test, y_test = bl.get_X_y(data)"
   ]
  },
  {
   "cell_type": "code",
   "execution_count": 6,
   "metadata": {},
   "outputs": [
    {
     "data": {
      "text/plain": [
       "(151508, 242)"
      ]
     },
     "execution_count": 6,
     "metadata": {},
     "output_type": "execute_result"
    }
   ],
   "source": [
    "X_train.shape"
   ]
  },
  {
   "cell_type": "code",
   "execution_count": 7,
   "metadata": {},
   "outputs": [
    {
     "data": {
      "text/plain": [
       "(151508,)"
      ]
     },
     "execution_count": 7,
     "metadata": {},
     "output_type": "execute_result"
    }
   ],
   "source": [
    "y_train.shape"
   ]
  },
  {
   "cell_type": "code",
   "execution_count": 8,
   "metadata": {},
   "outputs": [
    {
     "data": {
      "text/plain": [
       "(9440, 242)"
      ]
     },
     "execution_count": 8,
     "metadata": {},
     "output_type": "execute_result"
    }
   ],
   "source": [
    "X_test.shape"
   ]
  },
  {
   "cell_type": "code",
   "execution_count": 9,
   "metadata": {},
   "outputs": [
    {
     "data": {
      "text/plain": [
       "(9440,)"
      ]
     },
     "execution_count": 9,
     "metadata": {},
     "output_type": "execute_result"
    }
   ],
   "source": [
    "y_test.shape"
   ]
  },
  {
   "cell_type": "markdown",
   "metadata": {},
   "source": [
    "## Features Used\n",
    "\n",
    "One-hot encodings of\n",
    "- teacher\n",
    "- class\n",
    "- level\n",
    "- unit_module\n",
    "\n",
    "We want to try and keep the dimensionality down (i.e. size of our feature vectors) so we exclude the user. Adding user information should certainly increase the performance."
   ]
  },
  {
   "cell_type": "markdown",
   "metadata": {},
   "source": [
    "## 1. Mean Accuracy in Training Set\n",
    "\n",
    "As a simple heuristic, and to see how difficult the problem is."
   ]
  },
  {
   "cell_type": "code",
   "execution_count": 11,
   "metadata": {},
   "outputs": [
    {
     "name": "stdout",
     "output_type": "stream",
     "text": [
      "Predicting with mean acc in training set yields 0.2138025611910368 rmse on the test set.\n"
     ]
    }
   ],
   "source": [
    "bl.eval_mean_acc(data)"
   ]
  },
  {
   "cell_type": "markdown",
   "metadata": {},
   "source": [
    "Just taking the mean accuracy in the training set to predict the test set yields a RMSE of ~0.21. That means on a 100 point scale of accuracy, we are on average about 21 points off the real value. That is very inaccurate. We should have room to improve, if we can make the most of our data."
   ]
  },
  {
   "cell_type": "markdown",
   "metadata": {},
   "source": [
    "## 2. Linear Regression\n",
    "\n",
    "Our linear regression model is also very simple and we don't expect it to do much better. It uses one-hot encodings of each of our entities of interest. So it still doesn't consider time."
   ]
  },
  {
   "cell_type": "code",
   "execution_count": 12,
   "metadata": {},
   "outputs": [
    {
     "name": "stdout",
     "output_type": "stream",
     "text": [
      "Linear regression gives RMSE of 0.2037514594740634\n"
     ]
    }
   ],
   "source": [
    "bl.eval_linear_regression(X_train, y_train, X_test, y_test)"
   ]
  },
  {
   "cell_type": "markdown",
   "metadata": {},
   "source": [
    "And indeed that is a small improvement. However, we have applied no regularization and done no hyperparameter tuning..."
   ]
  },
  {
   "cell_type": "markdown",
   "metadata": {},
   "source": [
    "## 3. Support Vector Regressor\n",
    "\n",
    "We use the same features, but a stronger model than simple linear regression. We also don't tune hyperparamters, leaving that for you to do if you like."
   ]
  },
  {
   "cell_type": "code",
   "execution_count": 4,
   "metadata": {},
   "outputs": [
    {
     "name": "stdout",
     "output_type": "stream",
     "text": [
      "SVR gives RMSE of 0.20645149457236966\n"
     ]
    }
   ],
   "source": [
    "bl.eval_svr(X_train, y_train, X_test, y_test)"
   ]
  },
  {
   "cell_type": "markdown",
   "metadata": {},
   "source": [
    "## 4. Neural Network"
   ]
  },
  {
   "cell_type": "code",
   "execution_count": null,
   "metadata": {},
   "outputs": [],
   "source": []
  }
 ],
 "metadata": {
  "kernelspec": {
   "display_name": "stan",
   "language": "python",
   "name": "stan"
  },
  "language_info": {
   "codemirror_mode": {
    "name": "ipython",
    "version": 3
   },
   "file_extension": ".py",
   "mimetype": "text/x-python",
   "name": "python",
   "nbconvert_exporter": "python",
   "pygments_lexer": "ipython3",
   "version": "3.7.2"
  }
 },
 "nbformat": 4,
 "nbformat_minor": 2
}
